{
  "nbformat": 4,
  "nbformat_minor": 0,
  "metadata": {
    "colab": {
      "name": "vgg16_test_no_for_25k_image.ipynb",
      "provenance": [],
      "include_colab_link": true
    },
    "kernelspec": {
      "name": "python3",
      "display_name": "Python 3"
    },
    "language_info": {
      "name": "python"
    },
    "accelerator": "GPU"
  },
  "cells": [
    {
      "cell_type": "markdown",
      "metadata": {
        "id": "view-in-github",
        "colab_type": "text"
      },
      "source": [
        "<a href=\"https://colab.research.google.com/github/LikhanInSpace/Pripyat/blob/main/vgg16_test_no_for_25k_image.ipynb\" target=\"_parent\"><img src=\"https://colab.research.google.com/assets/colab-badge.svg\" alt=\"Open In Colab\"/></a>"
      ]
    },
    {
      "cell_type": "code",
      "metadata": {
        "id": "BmeNtXcLQG_P",
        "colab": {
          "base_uri": "https://localhost:8080/"
        },
        "outputId": "04312e4f-de63-4d65-f805-323ccfca4347"
      },
      "source": [
        "from tensorflow.compat.v1 import ConfigProto\n",
        "from tensorflow.compat.v1 import InteractiveSession\n",
        "\n",
        "config = ConfigProto()\n",
        "config.gpu_options.per_process_gpu_memory_fraction = 0.5\n",
        "config.gpu_options.allow_growth = True\n",
        "session = InteractiveSession(config=config)"
      ],
      "execution_count": null,
      "outputs": [
        {
          "output_type": "stream",
          "text": [
            "/usr/local/lib/python3.7/dist-packages/tensorflow/python/client/session.py:1761: UserWarning: An interactive session is already active. This can cause out-of-memory errors in some cases. You must explicitly call `InteractiveSession.close()` to release resources held by the other session(s).\n",
            "  warnings.warn('An interactive session is already active. This can '\n"
          ],
          "name": "stderr"
        }
      ]
    },
    {
      "cell_type": "code",
      "metadata": {
        "colab": {
          "base_uri": "https://localhost:8080/"
        },
        "id": "Dz7EtkF7Ql2X",
        "outputId": "6139d08a-e23c-4fbd-dc2d-e408c2b3daf5"
      },
      "source": [
        "import tensorflow as tf\n",
        "print(tf.__version__)"
      ],
      "execution_count": null,
      "outputs": [
        {
          "output_type": "stream",
          "text": [
            "2.5.0\n"
          ],
          "name": "stdout"
        }
      ]
    },
    {
      "cell_type": "code",
      "metadata": {
        "id": "pdGxbVIWQnYV"
      },
      "source": [
        "# import the libraries as shown below\n",
        "\n",
        "from tensorflow.keras.layers import Input, Lambda, Dense, Flatten\n",
        "from tensorflow.keras.models import Model\n",
        "from tensorflow.keras.applications.vgg16 import VGG16\n",
        "from tensorflow.keras.applications.vgg19 import VGG19\n",
        "from tensorflow.keras.preprocessing import image\n",
        "from tensorflow.keras.preprocessing.image import ImageDataGenerator,load_img\n",
        "from tensorflow.keras.models import Sequential\n",
        "import numpy as np\n",
        "from glob import glob\n",
        "#import matplotlib.pyplot as plt"
      ],
      "execution_count": 1,
      "outputs": []
    },
    {
      "cell_type": "code",
      "metadata": {
        "colab": {
          "base_uri": "https://localhost:8080/"
        },
        "id": "vT8HzNfNQrFd",
        "outputId": "474731c8-427b-4f02-e504-b18e9b5a6107"
      },
      "source": [
        "from google.colab import drive\n",
        "drive.mount('/content/drive')"
      ],
      "execution_count": 2,
      "outputs": [
        {
          "output_type": "stream",
          "text": [
            "Mounted at /content/drive\n"
          ],
          "name": "stdout"
        }
      ]
    },
    {
      "cell_type": "code",
      "metadata": {
        "id": "GZnRSfYGQ-bc"
      },
      "source": [
        "# re-size all the images to this\n",
        "IMAGE_SIZE = [224, 224]\n",
        "train_path = '/content/drive/MyDrive/real vs fake/train'\n",
        "valid_path = '/content/drive/MyDrive/real vs fake/test'"
      ],
      "execution_count": 3,
      "outputs": []
    },
    {
      "cell_type": "code",
      "metadata": {
        "colab": {
          "base_uri": "https://localhost:8080/"
        },
        "id": "6f6Bs3P0RLFf",
        "outputId": "c4c726eb-ecfe-4763-bb04-eefa78dbf6d4"
      },
      "source": [
        "# Import the VGG16 library as shown below and add preprocessing layer to the front of VGG\n",
        "# Here we will be using imagenet weights\n",
        "\n",
        "vgg16 = VGG16(input_shape=IMAGE_SIZE + [3], weights='imagenet', include_top=False)\n",
        "\n"
      ],
      "execution_count": 4,
      "outputs": [
        {
          "output_type": "stream",
          "text": [
            "Downloading data from https://storage.googleapis.com/tensorflow/keras-applications/vgg16/vgg16_weights_tf_dim_ordering_tf_kernels_notop.h5\n",
            "58892288/58889256 [==============================] - 0s 0us/step\n"
          ],
          "name": "stdout"
        }
      ]
    },
    {
      "cell_type": "code",
      "metadata": {
        "id": "tgj9QgSMRQNo"
      },
      "source": [
        "# don't train existing weights\n",
        "for layer in vgg16.layers:\n",
        "    layer.trainable = False"
      ],
      "execution_count": 5,
      "outputs": []
    },
    {
      "cell_type": "code",
      "metadata": {
        "id": "-1dJhChuRWH3"
      },
      "source": [
        "  # useful for getting number of output classes\n",
        "folders = glob('/content/drive/MyDrive/real vs fake/train/*')"
      ],
      "execution_count": 6,
      "outputs": []
    },
    {
      "cell_type": "code",
      "metadata": {
        "colab": {
          "base_uri": "https://localhost:8080/"
        },
        "id": "v46B5GybRcRm",
        "outputId": "db99e1bd-8a2c-4198-8035-5ad9d2c8436f"
      },
      "source": [
        "folders"
      ],
      "execution_count": 7,
      "outputs": [
        {
          "output_type": "execute_result",
          "data": {
            "text/plain": [
              "['/content/drive/MyDrive/real vs fake/train/real',\n",
              " '/content/drive/MyDrive/real vs fake/train/fake']"
            ]
          },
          "metadata": {
            "tags": []
          },
          "execution_count": 7
        }
      ]
    },
    {
      "cell_type": "code",
      "metadata": {
        "id": "kG4GHiRGRfan"
      },
      "source": [
        "# our layers - you can add more if you want\n",
        "x = Flatten()(vgg16.output)"
      ],
      "execution_count": 8,
      "outputs": []
    },
    {
      "cell_type": "code",
      "metadata": {
        "colab": {
          "base_uri": "https://localhost:8080/"
        },
        "id": "k7Rb1C1XRkMW",
        "outputId": "06196042-e955-412c-db54-425b41e71b2d"
      },
      "source": [
        "len(folders)"
      ],
      "execution_count": 9,
      "outputs": [
        {
          "output_type": "execute_result",
          "data": {
            "text/plain": [
              "2"
            ]
          },
          "metadata": {
            "tags": []
          },
          "execution_count": 9
        }
      ]
    },
    {
      "cell_type": "code",
      "metadata": {
        "id": "nr_k3r3fRmsP"
      },
      "source": [
        "prediction = Dense(len(folders), activation='softmax')(x)\n",
        "\n",
        "# create a model object\n",
        "model = Model(inputs=vgg16.input, outputs=prediction)"
      ],
      "execution_count": 10,
      "outputs": []
    },
    {
      "cell_type": "code",
      "metadata": {
        "id": "cGuH1ETNRpAR"
      },
      "source": [
        "# view the structure of the model\n",
        "#model.summary()\n"
      ],
      "execution_count": 11,
      "outputs": []
    },
    {
      "cell_type": "code",
      "metadata": {
        "id": "0UyQ4XRERqfn"
      },
      "source": [
        "# tell the model what cost and optimization method to use\n",
        "model.compile(\n",
        "  loss='categorical_crossentropy',\n",
        "  optimizer='adam',\n",
        "  metrics=['accuracy']\n",
        ")\n"
      ],
      "execution_count": 12,
      "outputs": []
    },
    {
      "cell_type": "code",
      "metadata": {
        "id": "9eLssWYkRv_w"
      },
      "source": [
        "# Use the Image Data Generator to import the images from the dataset\n",
        "from tensorflow.keras.preprocessing.image import ImageDataGenerator\n",
        "\n",
        "train_datagen = ImageDataGenerator(rescale = 1./255,\n",
        "                                   shear_range = 0.2,\n",
        "                                   zoom_range = 0.2,\n",
        "                                   horizontal_flip = True)\n",
        "\n",
        "test_datagen = ImageDataGenerator(rescale = 1./255)"
      ],
      "execution_count": 13,
      "outputs": []
    },
    {
      "cell_type": "code",
      "metadata": {
        "colab": {
          "base_uri": "https://localhost:8080/"
        },
        "id": "hlC4cp0TR0W6",
        "outputId": "bab783a0-7996-48e9-ded1-82256ce2d022"
      },
      "source": [
        "# Make sure you provide the same target size as initialied for the image size\n",
        "training_set = train_datagen.flow_from_directory('/content/drive/MyDrive/real vs fake/train',\n",
        "                                                 target_size = (224, 224),\n",
        "                                                 batch_size = 100,\n",
        "                                                 class_mode = 'categorical')"
      ],
      "execution_count": 14,
      "outputs": [
        {
          "output_type": "stream",
          "text": [
            "Found 15024 images belonging to 2 classes.\n"
          ],
          "name": "stdout"
        }
      ]
    },
    {
      "cell_type": "code",
      "metadata": {
        "colab": {
          "base_uri": "https://localhost:8080/"
        },
        "id": "NkaMFc-dR9GG",
        "outputId": "b4bf3c11-e86d-4029-d38b-2e160cc293c7"
      },
      "source": [
        "test_set = test_datagen.flow_from_directory('/content/drive/MyDrive/real vs fake/test',\n",
        "                                            target_size = (224, 224),\n",
        "                                            batch_size = 100,\n",
        "                                            class_mode = 'categorical')"
      ],
      "execution_count": 15,
      "outputs": [
        {
          "output_type": "stream",
          "text": [
            "Found 10000 images belonging to 2 classes.\n"
          ],
          "name": "stdout"
        }
      ]
    },
    {
      "cell_type": "code",
      "metadata": {
        "colab": {
          "base_uri": "https://localhost:8080/"
        },
        "id": "MWUXdlxVSBr3",
        "outputId": "b0f59646-32d4-4470-84aa-df8ccaf48439"
      },
      "source": [
        "# fit the model\n",
        "# Run the cell. It will take some time to execute\n",
        "r = model.fit(\n",
        "  training_set,\n",
        "  validation_data=test_set,\n",
        "  epochs=15,\n",
        "  steps_per_epoch=len(training_set),\n",
        "  validation_steps=len(test_set)\n",
        ")"
      ],
      "execution_count": 17,
      "outputs": [
        {
          "output_type": "stream",
          "text": [
            "Epoch 1/15\n",
            "151/151 [==============================] - 6153s 41s/step - loss: 0.0281 - accuracy: 0.9859 - val_loss: 0.0050 - val_accuracy: 0.9996\n",
            "Epoch 2/15\n",
            "151/151 [==============================] - 230s 2s/step - loss: 0.0034 - accuracy: 0.9991 - val_loss: 0.0046 - val_accuracy: 0.9991\n",
            "Epoch 3/15\n",
            "151/151 [==============================] - 223s 1s/step - loss: 0.0021 - accuracy: 0.9995 - val_loss: 0.0381 - val_accuracy: 0.9839\n",
            "Epoch 4/15\n",
            "151/151 [==============================] - 221s 1s/step - loss: 0.0015 - accuracy: 0.9997 - val_loss: 0.0111 - val_accuracy: 0.9954\n",
            "Epoch 5/15\n",
            "151/151 [==============================] - 221s 1s/step - loss: 9.3889e-04 - accuracy: 0.9998 - val_loss: 0.0080 - val_accuracy: 0.9966\n",
            "Epoch 6/15\n",
            "151/151 [==============================] - 221s 1s/step - loss: 6.3684e-04 - accuracy: 0.9999 - val_loss: 0.0041 - val_accuracy: 0.9987\n",
            "Epoch 7/15\n",
            "151/151 [==============================] - 221s 1s/step - loss: 5.0137e-04 - accuracy: 0.9999 - val_loss: 0.0076 - val_accuracy: 0.9970\n",
            "Epoch 8/15\n",
            "151/151 [==============================] - 221s 1s/step - loss: 2.9698e-04 - accuracy: 1.0000 - val_loss: 0.0063 - val_accuracy: 0.9974\n",
            "Epoch 9/15\n",
            "151/151 [==============================] - 220s 1s/step - loss: 3.7449e-04 - accuracy: 1.0000 - val_loss: 0.0103 - val_accuracy: 0.9958\n",
            "Epoch 10/15\n",
            "151/151 [==============================] - 221s 1s/step - loss: 3.3470e-04 - accuracy: 0.9999 - val_loss: 0.0122 - val_accuracy: 0.9947\n",
            "Epoch 11/15\n",
            "151/151 [==============================] - 221s 1s/step - loss: 3.0604e-04 - accuracy: 1.0000 - val_loss: 0.0204 - val_accuracy: 0.9911\n",
            "Epoch 12/15\n",
            "151/151 [==============================] - 221s 1s/step - loss: 2.9937e-04 - accuracy: 1.0000 - val_loss: 0.0169 - val_accuracy: 0.9922\n",
            "Epoch 13/15\n",
            "151/151 [==============================] - 221s 1s/step - loss: 1.6097e-04 - accuracy: 1.0000 - val_loss: 0.0231 - val_accuracy: 0.9906\n",
            "Epoch 14/15\n",
            "151/151 [==============================] - 221s 1s/step - loss: 3.0476e-04 - accuracy: 0.9999 - val_loss: 0.0103 - val_accuracy: 0.9956\n",
            "Epoch 15/15\n",
            "151/151 [==============================] - 221s 1s/step - loss: 1.0473e-04 - accuracy: 1.0000 - val_loss: 0.0132 - val_accuracy: 0.9938\n"
          ],
          "name": "stdout"
        }
      ]
    },
    {
      "cell_type": "code",
      "metadata": {
        "id": "fdREvt2kSYcA"
      },
      "source": [
        "import matplotlib.pyplot as plt"
      ],
      "execution_count": 16,
      "outputs": []
    },
    {
      "cell_type": "code",
      "metadata": {
        "colab": {
          "base_uri": "https://localhost:8080/",
          "height": 530
        },
        "id": "h2jS5pWVScCn",
        "outputId": "b155b619-d11a-4883-d2f8-fa5debe2578e"
      },
      "source": [
        "# plot the loss\n",
        "plt.plot(r.history['loss'], label='train loss')\n",
        "plt.plot(r.history['val_loss'], label='val loss')\n",
        "plt.legend()\n",
        "plt.show()\n",
        "plt.savefig('LossVal_loss')\n",
        "\n",
        "# plot the accuracy\n",
        "plt.plot(r.history['accuracy'], label='train acc')\n",
        "plt.plot(r.history['val_accuracy'], label='val acc')\n",
        "plt.legend()\n",
        "plt.show()\n",
        "plt.savefig('AccVal_acc')"
      ],
      "execution_count": null,
      "outputs": [
        {
          "output_type": "display_data",
          "data": {
            "image/png": "[encoded data removed]",
            "text/plain": [
              "<Figure size 432x288 with 1 Axes>"
            ]
          },
          "metadata": {
            "tags": [],
            "needs_background": "light"
          }
        },
        {
          "output_type": "display_data",
          "data": {
            "image/png": "[encoded data removed]",
            "text/plain": [
              "<Figure size 432x288 with 1 Axes>"
            ]
          },
          "metadata": {
            "tags": [],
            "needs_background": "light"
          }
        },
        {
          "output_type": "display_data",
          "data": {
            "text/plain": [
              "<Figure size 432x288 with 0 Axes>"
            ]
          },
          "metadata": {
            "tags": []
          }
        }
      ]
    },
    {
      "cell_type": "code",
      "metadata": {
        "id": "YGURZTVeSikm"
      },
      "source": [
        "# save it as a h5 file\n",
        "\n",
        "\n",
        "from tensorflow.keras.models import load_model\n",
        "\n",
        "model.save('model_vgg16.h5')"
      ],
      "execution_count": null,
      "outputs": []
    },
    {
      "cell_type": "code",
      "metadata": {
        "id": "7Qe86ud_SnIf"
      },
      "source": [
        "y_pred = model.predict(test_set)"
      ],
      "execution_count": null,
      "outputs": []
    },
    {
      "cell_type": "code",
      "metadata": {
        "colab": {
          "base_uri": "https://localhost:8080/"
        },
        "id": "8gYCqbsRSpbG",
        "outputId": "f52fde50-6d16-4fd6-ede3-66a2d1bb627d"
      },
      "source": [
        "y_pred"
      ],
      "execution_count": null,
      "outputs": [
        {
          "output_type": "execute_result",
          "data": {
            "text/plain": [
              "array([[1.0000000e+00, 1.3009574e-21],\n",
              "       [0.0000000e+00, 1.0000000e+00],\n",
              "       [1.8938615e-16, 1.0000000e+00],\n",
              "       ...,\n",
              "       [8.6144044e-28, 1.0000000e+00],\n",
              "       [9.8812323e-24, 1.0000000e+00],\n",
              "       [1.0000000e+00, 6.8883776e-24]], dtype=float32)"
            ]
          },
          "metadata": {
            "tags": []
          },
          "execution_count": 28
        }
      ]
    },
    {
      "cell_type": "code",
      "metadata": {
        "id": "LhtF3WtISpiK"
      },
      "source": [
        "import numpy as np\n",
        "y_pred = np.argmax(y_pred, axis=1)"
      ],
      "execution_count": null,
      "outputs": []
    },
    {
      "cell_type": "code",
      "metadata": {
        "colab": {
          "base_uri": "https://localhost:8080/"
        },
        "id": "72Yp102dSvM3",
        "outputId": "ed076428-2914-44a0-f751-f9a055133f12"
      },
      "source": [
        "y_pred"
      ],
      "execution_count": null,
      "outputs": [
        {
          "output_type": "execute_result",
          "data": {
            "text/plain": [
              "array([0, 1, 1, ..., 1, 1, 0])"
            ]
          },
          "metadata": {
            "tags": []
          },
          "execution_count": 30
        }
      ]
    },
    {
      "cell_type": "code",
      "metadata": {
        "id": "fpHunBdoSyMn"
      },
      "source": [
        "from tensorflow.keras.models import load_model\n",
        "from tensorflow.keras.preprocessing import image"
      ],
      "execution_count": null,
      "outputs": []
    },
    {
      "cell_type": "code",
      "metadata": {
        "id": "oP3kzXhmkuHy"
      },
      "source": [
        "model=load_model('model_vgg16.h5')"
      ],
      "execution_count": null,
      "outputs": []
    }
  ]
}