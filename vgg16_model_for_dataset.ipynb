{
  "nbformat": 4,
  "nbformat_minor": 0,
  "metadata": {
    "colab": {
      "name": "vgg16_model_for_dataset.ipynb",
      "provenance": [],
      "collapsed_sections": [],
      "mount_file_id": "1F3TUY0r6Z5DGnGbGsjB3k7pmu5CSbOYj",
      "authorship_tag": "ABX9TyOkDYmZjdy9S+JRCVFObeEN",
      "include_colab_link": true
    },
    "kernelspec": {
      "name": "python3",
      "display_name": "Python 3"
    },
    "language_info": {
      "name": "python"
    },
    "accelerator": "GPU"
  },
  "cells": [
    {
      "cell_type": "markdown",
      "metadata": {
        "id": "view-in-github",
        "colab_type": "text"
      },
      "source": [
        "<a href=\"https://colab.research.google.com/github/LikhanInSpace/bomFatabo/blob/main/vgg16_model_for_dataset.ipynb\" target=\"_parent\"><img src=\"https://colab.research.google.com/assets/colab-badge.svg\" alt=\"Open In Colab\"/></a>"
      ]
    },
    {
      "cell_type": "code",
      "metadata": {
        "id": "rOYvaT2UswJ3",
        "colab": {
          "base_uri": "https://localhost:8080/"
        },
        "outputId": "dc844f0e-c3a3-4901-a43e-ac11a6aedb5c"
      },
      "source": [
        "from __future__ import print_function\n",
        "!pip install keras_applications\n",
        "\n",
        "import numpy as np\n",
        "import warnings\n",
        "from keras.models import Model\n",
        "from keras.layers import  Flatten, Dense, Dropout\n",
        "from keras.layers import  Input, Convolution2D, MaxPooling2D, ZeroPadding2D\n",
        "from keras.layers import Conv2D, MaxPooling2D, GlobalAveragePooling2D\n",
        "from keras.preprocessing import image\n",
        "from keras.utils import layer_utils\n",
        "from keras.utils.data_utils import get_file\n",
        "from keras import backend as K\n",
        "from keras.applications.imagenet_utils import decode_predictions\n",
        "from keras.applications.imagenet_utils import preprocess_input\n",
        "from keras_applications.imagenet_utils import _obtain_input_shape\n",
        "from keras.engine.topology import get_source_inputs"
      ],
      "execution_count": 13,
      "outputs": [
        {
          "output_type": "stream",
          "text": [
            "Requirement already satisfied: keras_applications in /usr/local/lib/python3.7/dist-packages (1.0.8)\n",
            "Requirement already satisfied: h5py in /usr/local/lib/python3.7/dist-packages (from keras_applications) (3.1.0)\n",
            "Requirement already satisfied: numpy>=1.9.1 in /usr/local/lib/python3.7/dist-packages (from keras_applications) (1.19.5)\n",
            "Requirement already satisfied: cached-property; python_version < \"3.8\" in /usr/local/lib/python3.7/dist-packages (from h5py->keras_applications) (1.5.2)\n"
          ],
          "name": "stdout"
        }
      ]
    },
    {
      "cell_type": "code",
      "metadata": {
        "id": "VMTgFnObx04B"
      },
      "source": [
        "def VGG16(input_tensor=None, classes=2):\n",
        "  img_rows, img_cols= 224,224\n",
        "  img_channels= 3\n",
        "\n",
        "  img_dim=(img_rows,img_cols,img_channels)\n",
        "  img_input = Input(shape=img_dim)\n",
        "\n",
        "  # block 1\n",
        "  x = Convolution2D(64, (3,3), activation='relu', padding='same', name='block1_conv1')(img_input)\n",
        "  x = Convolution2D(64, (3,3), activation='relu', padding='same', name='block1_conv2')(x)\n",
        "  x = MaxPooling2D((2,2), strides=(2,2), name='block1_pool')(x)\n",
        "\n",
        "  # block 2\n",
        "  x = Convolution2D(128, (3,3), activation='relu', padding='same', name='block2_conv1')(x)\n",
        "  x = Convolution2D(128, (3,3), activation='relu', padding='same', name='block2_conv2')(x)\n",
        "  x = MaxPooling2D((2,2), strides=(2,2), name='block2_pool')(x)\n",
        "\n",
        "  # block 3\n",
        "  x = Convolution2D(256, (3,3), activation='relu', padding='same', name='block3_conv1')(x)\n",
        "  x = Convolution2D(256, (3,3), activation='relu', padding='same', name='block3_conv2')(x)\n",
        "  x = Convolution2D(256, (3,3), activation='relu', padding='same', name='block3_conv3')(x)\n",
        "  x = MaxPooling2D((2,2), strides=(2,2), name='block3_pool')(x)\n",
        "\n",
        "  # block 4\n",
        "  x = Convolution2D(512, (3,3), activation='relu', padding='same', name='block4_conv1')(x)\n",
        "  x = Convolution2D(512, (3,3), activation='relu', padding='same', name='block4_conv2')(x)\n",
        "  x = Convolution2D(512, (3,3), activation='relu', padding='same', name='block4_conv3')(x)\n",
        "  x = MaxPooling2D((2,2), strides=(2,2), name='block4_pool')(x)\n",
        "\n",
        "  # block 5\n",
        "  x = Convolution2D(512, (3,3), activation='relu', padding='same', name='block5_conv1')(x)\n",
        "  x = Convolution2D(512, (3,3), activation='relu', padding='same', name='block5_conv2')(x)\n",
        "  x = Convolution2D(512, (3,3), activation='relu', padding='same', name='block5_conv3')(x)\n",
        "  x = MaxPooling2D((2,2), strides=(2,2), name='block5_pool')(x)\n",
        "\n",
        "  # classification block\n",
        "  x = Flatten(name='flatten')(x)\n",
        "  x = Dense(4096, activation='relu', name= 'fc1')(x)\n",
        "  x = Dense(4096, activation='relu', name= 'fc2')(x)\n",
        "  x = Dense(classes, activation='softmax', name='predictions')(x)\n",
        "\n",
        "  # create model\n",
        "\n",
        "  model = Model(inputs = img_input, outputs = x, name='vgg16')\n",
        "  return model\n",
        "\n",
        "\n",
        "\n",
        "\n"
      ],
      "execution_count": 41,
      "outputs": []
    },
    {
      "cell_type": "code",
      "metadata": {
        "id": "GVAjQ0LT6Mdp"
      },
      "source": [
        "#new section\n",
        "\n",
        "model = VGG16(classes = 2) # for real and fake image\n",
        "model.compile(optimizer='adam', loss='categorical_crossentropy', metrics=['accuracy'])\n"
      ],
      "execution_count": 44,
      "outputs": []
    },
    {
      "cell_type": "code",
      "metadata": {
        "id": "CtyvIbvh-P73"
      },
      "source": [
        "import numpy as np\n",
        "import pandas as pd\n",
        "import matplotlib.pyplot as plt\n",
        "import os"
      ],
      "execution_count": 46,
      "outputs": []
    },
    {
      "cell_type": "code",
      "metadata": {
        "colab": {
          "base_uri": "https://localhost:8080/"
        },
        "id": "GDnwbdCn_eIJ",
        "outputId": "d86b5bc3-f0d7-4837-f0d2-3da7e48d52b3"
      },
      "source": [
        "from google.colab import drive\n",
        "drive.mount('/content/drive')"
      ],
      "execution_count": 47,
      "outputs": [
        {
          "output_type": "stream",
          "text": [
            "Mounted at /content/drive\n"
          ],
          "name": "stdout"
        }
      ]
    },
    {
      "cell_type": "code",
      "metadata": {
        "colab": {
          "base_uri": "https://localhost:8080/"
        },
        "id": "8BRTaWCc_uEu",
        "outputId": "a6119051-0dbc-4d3c-d754-e5151e824d10"
      },
      "source": [
        "dataset_path = os.listdir('/content/drive/MyDrive/thesis dataset/type of image')\n",
        "image_types = os.listdir('/content/drive/MyDrive/thesis dataset/type of image')\n",
        "print (image_types) # what kinds image in this dataset\n",
        "print(\"Types of image found:\", len(dataset_path))"
      ],
      "execution_count": 65,
      "outputs": [
        {
          "output_type": "stream",
          "text": [
            "['so called fake', 'so called real']\n",
            "Types of image found: 2\n"
          ],
          "name": "stdout"
        }
      ]
    },
    {
      "cell_type": "code",
      "metadata": {
        "colab": {
          "base_uri": "https://localhost:8080/"
        },
        "id": "hgYa_q49Aot6",
        "outputId": "2d582d83-09e3-4b19-bd23-ad38f5093fa2"
      },
      "source": [
        "images = []\n",
        "for item in image_types:\n",
        "  all_images = os.listdir('/content/drive/MyDrive/thesis dataset/type of image' + '/' + item)\n",
        "\n",
        "for image in all_images:\n",
        "  images.append((item, str('/content/drive/MyDrive/thesis dataset/type of image'+ '/' + item) + '/' + image))\n",
        "  print(images)"
      ],
      "execution_count": 67,
      "outputs": [
        {
          "output_type": "stream",
          "text": [
            "IOPub data rate exceeded.\n",
            "The notebook server will temporarily stop sending output\n",
            "to the client in order to avoid crashing it.\n",
            "To change this limit, set the config variable\n",
            "`--NotebookApp.iopub_data_rate_limit`.\n",
            "\n",
            "Current values:\n",
            "NotebookApp.iopub_data_rate_limit=1000000.0 (bytes/sec)\n",
            "NotebookApp.rate_limit_window=3.0 (secs)\n",
            "\n"
          ],
          "name": "stderr"
        }
      ]
    },
    {
      "cell_type": "code",
      "metadata": {
        "id": "16e0d27CPIdf"
      },
      "source": [
        ""
      ],
      "execution_count": null,
      "outputs": []
    }
  ]
}