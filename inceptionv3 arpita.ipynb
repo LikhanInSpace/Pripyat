{
  "nbformat": 4,
  "nbformat_minor": 0,
  "metadata": {
    "colab": {
      "name": "Copy of Untitled3.ipynb",
      "provenance": [],
      "collapsed_sections": []
    },
    "kernelspec": {
      "name": "python3",
      "display_name": "Python 3"
    },
    "language_info": {
      "name": "python"
    },
    "accelerator": "GPU"
  },
  "cells": [
    {
      "cell_type": "code",
      "metadata": {
        "id": "zn0w2Eco9o_u"
      },
      "source": [
        "from tensorflow.keras.layers import Input, Lambda, Dense, Flatten\n",
        "from tensorflow.keras.models import Model\n",
        "from tensorflow.keras.applications.inception_v3 import InceptionV3\n",
        "from tensorflow.keras.applications.inception_v3 import InceptionV3\n",
        "from tensorflow.keras.preprocessing import image\n",
        "from tensorflow.keras.preprocessing.image import ImageDataGenerator,load_img\n",
        "from tensorflow.keras.models import Sequential\n",
        "import numpy as np\n",
        "from glob import glob"
      ],
      "execution_count": null,
      "outputs": []
    },
    {
      "cell_type": "code",
      "metadata": {
        "colab": {
          "base_uri": "https://localhost:8080/"
        },
        "id": "tN4jyaFs98mZ",
        "outputId": "e49a774e-d82c-41c3-8fcd-2a81bbb2dc3c"
      },
      "source": [
        "from google.colab import drive\n",
        "drive.mount('/content/drive')"
      ],
      "execution_count": null,
      "outputs": [
        {
          "output_type": "stream",
          "text": [
            "Mounted at /content/drive\n"
          ],
          "name": "stdout"
        }
      ]
    },
    {
      "cell_type": "code",
      "metadata": {
        "id": "BNoDLoiM-YSs"
      },
      "source": [
        "IMAGE_SIZE = [224, 224]\n",
        "train_path = '/content/drive/MyDrive/real vs fake/train'\n",
        "valid_path = '/content/drive/MyDrive/real vs fake/test'"
      ],
      "execution_count": null,
      "outputs": []
    },
    {
      "cell_type": "code",
      "metadata": {
        "colab": {
          "base_uri": "https://localhost:8080/"
        },
        "id": "un6sDVp1-eGw",
        "outputId": "c75b5df7-3b45-416b-e08e-347819c2c823"
      },
      "source": [
        "inceptionv3 = InceptionV3(input_shape=IMAGE_SIZE + [3], weights='imagenet', include_top=False)"
      ],
      "execution_count": null,
      "outputs": [
        {
          "output_type": "stream",
          "text": [
            "Downloading data from https://storage.googleapis.com/tensorflow/keras-applications/inception_v3/inception_v3_weights_tf_dim_ordering_tf_kernels_notop.h5\n",
            "87916544/87910968 [==============================] - 0s 0us/step\n"
          ],
          "name": "stdout"
        }
      ]
    },
    {
      "cell_type": "code",
      "metadata": {
        "id": "Kps3Iyug-nN4"
      },
      "source": [
        "for layer in inceptionv3.layers:\n",
        "    layer.trainable = False"
      ],
      "execution_count": null,
      "outputs": []
    },
    {
      "cell_type": "code",
      "metadata": {
        "id": "pFS4XFKY-vTf"
      },
      "source": [
        "folders = glob('/content/drive/MyDrive/real vs fake/train/*')"
      ],
      "execution_count": null,
      "outputs": []
    },
    {
      "cell_type": "code",
      "metadata": {
        "id": "RbJmetOL-1j2"
      },
      "source": [
        "x = Flatten()(inceptionv3.output)"
      ],
      "execution_count": null,
      "outputs": []
    },
    {
      "cell_type": "code",
      "metadata": {
        "id": "dGi50wlI-_1k"
      },
      "source": [
        "prediction = Dense(len(folders), activation='softmax')(x)\n",
        "\n",
        "# create a model object\n",
        "model = Model(inputs=inceptionv3.input, outputs=prediction)"
      ],
      "execution_count": null,
      "outputs": []
    },
    {
      "cell_type": "code",
      "metadata": {
        "id": "e-c3x_6j-_-d"
      },
      "source": [
        "model.compile(\n",
        "  loss='categorical_crossentropy',\n",
        "  optimizer='rmsprop',\n",
        "  metrics=['accuracy']\n",
        ")"
      ],
      "execution_count": null,
      "outputs": []
    },
    {
      "cell_type": "code",
      "metadata": {
        "id": "hm9lyKB7_dJ0"
      },
      "source": [
        "from tensorflow.keras.preprocessing.image import ImageDataGenerator\n",
        "\n",
        "train_datagen = ImageDataGenerator(rescale = 1./255,\n",
        "                                   shear_range = 0.2,\n",
        "                                   zoom_range = 0.2,\n",
        "                                   horizontal_flip = True)\n",
        "\n",
        "test_datagen = ImageDataGenerator(rescale = 1./255)"
      ],
      "execution_count": null,
      "outputs": []
    },
    {
      "cell_type": "code",
      "metadata": {
        "colab": {
          "base_uri": "https://localhost:8080/"
        },
        "id": "ecI73p18_gt5",
        "outputId": "be8be00f-9b4e-4840-87f7-e3212654732a"
      },
      "source": [
        "training_set = train_datagen.flow_from_directory('/content/drive/MyDrive/real vs fake/train',\n",
        "                                                 target_size = (224, 224),\n",
        "                                                 batch_size = 100,\n",
        "                                                 class_mode = 'categorical')"
      ],
      "execution_count": null,
      "outputs": [
        {
          "output_type": "stream",
          "text": [
            "Found 15024 images belonging to 2 classes.\n"
          ],
          "name": "stdout"
        }
      ]
    },
    {
      "cell_type": "code",
      "metadata": {
        "colab": {
          "base_uri": "https://localhost:8080/"
        },
        "id": "jW1xPbhd_m05",
        "outputId": "292e181a-99b8-4959-ea13-9542a47144f7"
      },
      "source": [
        "test_set = test_datagen.flow_from_directory('/content/drive/MyDrive/real vs fake/test',\n",
        "                                            target_size = (224, 224),\n",
        "                                            batch_size = 100,\n",
        "                                            class_mode = 'categorical')"
      ],
      "execution_count": null,
      "outputs": [
        {
          "output_type": "stream",
          "text": [
            "Found 10000 images belonging to 2 classes.\n"
          ],
          "name": "stdout"
        }
      ]
    },
    {
      "cell_type": "code",
      "metadata": {
        "colab": {
          "base_uri": "https://localhost:8080/"
        },
        "id": "fh6EtIKk_3nE",
        "outputId": "7826ba77-9582-42d7-b9fa-2e09e7a1dfa8"
      },
      "source": [
        "r = model.fit(\n",
        "  training_set,\n",
        "  validation_data=test_set,\n",
        "  epochs=20,\n",
        "  steps_per_epoch=len(training_set),\n",
        "  validation_steps=len(test_set)\n",
        ")"
      ],
      "execution_count": null,
      "outputs": [
        {
          "output_type": "stream",
          "text": [
            "Epoch 1/20\n",
            "151/151 [==============================] - 5711s 38s/step - loss: 0.8977 - accuracy: 0.9592 - val_loss: 0.0316 - val_accuracy: 0.9935\n",
            "Epoch 2/20\n",
            "151/151 [==============================] - 194s 1s/step - loss: 0.3318 - accuracy: 0.9809 - val_loss: 0.0123 - val_accuracy: 0.9986\n",
            "Epoch 3/20\n",
            "151/151 [==============================] - 195s 1s/step - loss: 0.1122 - accuracy: 0.9923 - val_loss: 3.4876 - val_accuracy: 0.8013\n",
            "Epoch 4/20\n",
            "151/151 [==============================] - 194s 1s/step - loss: 0.0805 - accuracy: 0.9937 - val_loss: 0.0313 - val_accuracy: 0.9959\n",
            "Epoch 5/20\n",
            "151/151 [==============================] - 194s 1s/step - loss: 0.0267 - accuracy: 0.9974 - val_loss: 0.0310 - val_accuracy: 0.9969\n",
            "Epoch 6/20\n",
            "151/151 [==============================] - 193s 1s/step - loss: 0.0270 - accuracy: 0.9974 - val_loss: 0.0693 - val_accuracy: 0.9938\n",
            "Epoch 7/20\n",
            "151/151 [==============================] - 193s 1s/step - loss: 0.0218 - accuracy: 0.9978 - val_loss: 0.0195 - val_accuracy: 0.9984\n",
            "Epoch 8/20\n",
            "151/151 [==============================] - 194s 1s/step - loss: 0.0067 - accuracy: 0.9992 - val_loss: 0.0332 - val_accuracy: 0.9970\n",
            "Epoch 9/20\n",
            "151/151 [==============================] - 193s 1s/step - loss: 0.0130 - accuracy: 0.9987 - val_loss: 0.0050 - val_accuracy: 0.9995\n",
            "Epoch 10/20\n",
            "151/151 [==============================] - 194s 1s/step - loss: 0.0107 - accuracy: 0.9991 - val_loss: 0.0091 - val_accuracy: 0.9993\n",
            "Epoch 11/20\n",
            "151/151 [==============================] - 194s 1s/step - loss: 0.0042 - accuracy: 0.9993 - val_loss: 0.0181 - val_accuracy: 0.9987\n",
            "Epoch 12/20\n",
            "151/151 [==============================] - 194s 1s/step - loss: 0.0046 - accuracy: 0.9994 - val_loss: 0.0223 - val_accuracy: 0.9984\n",
            "Epoch 13/20\n",
            "151/151 [==============================] - 194s 1s/step - loss: 0.0122 - accuracy: 0.9989 - val_loss: 0.0353 - val_accuracy: 0.9973\n",
            "Epoch 14/20\n",
            "151/151 [==============================] - 194s 1s/step - loss: 0.0029 - accuracy: 0.9997 - val_loss: 0.0255 - val_accuracy: 0.9976\n",
            "Epoch 15/20\n",
            "151/151 [==============================] - 193s 1s/step - loss: 0.0061 - accuracy: 0.9993 - val_loss: 0.0237 - val_accuracy: 0.9984\n",
            "Epoch 16/20\n",
            "151/151 [==============================] - 193s 1s/step - loss: 5.6977e-04 - accuracy: 0.9998 - val_loss: 0.0260 - val_accuracy: 0.9984\n",
            "Epoch 17/20\n",
            "151/151 [==============================] - 193s 1s/step - loss: 0.0015 - accuracy: 0.9998 - val_loss: 0.0566 - val_accuracy: 0.9961\n",
            "Epoch 18/20\n",
            "151/151 [==============================] - 193s 1s/step - loss: 0.0106 - accuracy: 0.9995 - val_loss: 0.0114 - val_accuracy: 0.9989\n",
            "Epoch 19/20\n",
            "151/151 [==============================] - 193s 1s/step - loss: 0.0016 - accuracy: 0.9997 - val_loss: 0.0042 - val_accuracy: 0.9995\n",
            "Epoch 20/20\n",
            "151/151 [==============================] - 193s 1s/step - loss: 0.0016 - accuracy: 0.9997 - val_loss: 0.0066 - val_accuracy: 0.9992\n"
          ],
          "name": "stdout"
        }
      ]
    },
    {
      "cell_type": "code",
      "metadata": {
        "id": "Ns4alQuOmgA6"
      },
      "source": [
        "import matplotlib.pyplot as plt"
      ],
      "execution_count": 1,
      "outputs": []
    },
    {
      "cell_type": "code",
      "metadata": {
        "colab": {
          "base_uri": "https://localhost:8080/",
          "height": 231
        },
        "id": "sXZaCLihm51L",
        "outputId": "1b518ade-e3ea-4600-c0e0-6e7b9732aa89"
      },
      "source": [
        "# plot the loss\n",
        "plt.plot(r.history['loss'], label='train loss')\n",
        "plt.plot(r.history['val_loss'], label='val loss')\n",
        "plt.legend()\n",
        "plt.show()\n",
        "plt.savefig('LossVal_loss')\n",
        "\n",
        "# plot the accuracy\n",
        "plt.plot(r.history['accuracy'], label='train acc')\n",
        "plt.plot(r.history['val_accuracy'], label='val acc')\n",
        "plt.legend()\n",
        "plt.show()\n",
        "plt.savefig('AccVal_acc')"
      ],
      "execution_count": 2,
      "outputs": [
        {
          "output_type": "error",
          "ename": "NameError",
          "evalue": "ignored",
          "traceback": [
            "\u001b[0;31m---------------------------------------------------------------------------\u001b[0m",
            "\u001b[0;31mNameError\u001b[0m                                 Traceback (most recent call last)",
            "\u001b[0;32m<ipython-input-2-bb6bf5bcc936>\u001b[0m in \u001b[0;36m<module>\u001b[0;34m()\u001b[0m\n\u001b[1;32m      1\u001b[0m \u001b[0;31m# plot the loss\u001b[0m\u001b[0;34m\u001b[0m\u001b[0;34m\u001b[0m\u001b[0;34m\u001b[0m\u001b[0m\n\u001b[0;32m----> 2\u001b[0;31m \u001b[0mplt\u001b[0m\u001b[0;34m.\u001b[0m\u001b[0mplot\u001b[0m\u001b[0;34m(\u001b[0m\u001b[0mr\u001b[0m\u001b[0;34m.\u001b[0m\u001b[0mhistory\u001b[0m\u001b[0;34m[\u001b[0m\u001b[0;34m'loss'\u001b[0m\u001b[0;34m]\u001b[0m\u001b[0;34m,\u001b[0m \u001b[0mlabel\u001b[0m\u001b[0;34m=\u001b[0m\u001b[0;34m'train loss'\u001b[0m\u001b[0;34m)\u001b[0m\u001b[0;34m\u001b[0m\u001b[0;34m\u001b[0m\u001b[0m\n\u001b[0m\u001b[1;32m      3\u001b[0m \u001b[0mplt\u001b[0m\u001b[0;34m.\u001b[0m\u001b[0mplot\u001b[0m\u001b[0;34m(\u001b[0m\u001b[0mr\u001b[0m\u001b[0;34m.\u001b[0m\u001b[0mhistory\u001b[0m\u001b[0;34m[\u001b[0m\u001b[0;34m'val_loss'\u001b[0m\u001b[0;34m]\u001b[0m\u001b[0;34m,\u001b[0m \u001b[0mlabel\u001b[0m\u001b[0;34m=\u001b[0m\u001b[0;34m'val loss'\u001b[0m\u001b[0;34m)\u001b[0m\u001b[0;34m\u001b[0m\u001b[0;34m\u001b[0m\u001b[0m\n\u001b[1;32m      4\u001b[0m \u001b[0mplt\u001b[0m\u001b[0;34m.\u001b[0m\u001b[0mlegend\u001b[0m\u001b[0;34m(\u001b[0m\u001b[0;34m)\u001b[0m\u001b[0;34m\u001b[0m\u001b[0;34m\u001b[0m\u001b[0m\n\u001b[1;32m      5\u001b[0m \u001b[0mplt\u001b[0m\u001b[0;34m.\u001b[0m\u001b[0mshow\u001b[0m\u001b[0;34m(\u001b[0m\u001b[0;34m)\u001b[0m\u001b[0;34m\u001b[0m\u001b[0;34m\u001b[0m\u001b[0m\n",
            "\u001b[0;31mNameError\u001b[0m: name 'r' is not defined"
          ]
        }
      ]
    }
  ]
}