{
  "nbformat": 4,
  "nbformat_minor": 0,
  "metadata": {
    "colab": {
      "name": "vgg16 test no 2.ipynb",
      "provenance": [],
      "authorship_tag": "ABX9TyNnOK2ReG9iSEm/BHq7TYBH",
      "include_colab_link": true
    },
    "kernelspec": {
      "name": "python3",
      "display_name": "Python 3"
    },
    "language_info": {
      "name": "python"
    },
    "accelerator": "GPU"
  },
  "cells": [
    {
      "cell_type": "markdown",
      "metadata": {
        "id": "view-in-github",
        "colab_type": "text"
      },
      "source": [
        "<a href=\"https://colab.research.google.com/github/LikhanInSpace/bomFatabo/blob/main/vgg16_test_no_2.ipynb\" target=\"_parent\"><img src=\"https://colab.research.google.com/assets/colab-badge.svg\" alt=\"Open In Colab\"/></a>"
      ]
    },
    {
      "cell_type": "code",
      "metadata": {
        "id": "BmeNtXcLQG_P"
      },
      "source": [
        "from tensorflow.compat.v1 import ConfigProto\n",
        "from tensorflow.compat.v1 import InteractiveSession\n",
        "\n",
        "config = ConfigProto()\n",
        "config.gpu_options.per_process_gpu_memory_fraction = 0.5\n",
        "config.gpu_options.allow_growth = True\n",
        "session = InteractiveSession(config=config)"
      ],
      "execution_count": 1,
      "outputs": []
    },
    {
      "cell_type": "code",
      "metadata": {
        "colab": {
          "base_uri": "https://localhost:8080/"
        },
        "id": "Dz7EtkF7Ql2X",
        "outputId": "da3d6898-0f7b-46ff-9067-7e7bcbc0b92d"
      },
      "source": [
        "import tensorflow as tf\n",
        "print(tf.__version__)"
      ],
      "execution_count": 1,
      "outputs": [
        {
          "output_type": "stream",
          "text": [
            "2.5.0\n"
          ],
          "name": "stdout"
        }
      ]
    },
    {
      "cell_type": "code",
      "metadata": {
        "id": "pdGxbVIWQnYV"
      },
      "source": [
        "# import the libraries as shown below\n",
        "\n",
        "from tensorflow.keras.layers import Input, Lambda, Dense, Flatten\n",
        "from tensorflow.keras.models import Model\n",
        "from tensorflow.keras.applications.vgg16 import VGG16\n",
        "from tensorflow.keras.applications.vgg19 import VGG19\n",
        "from tensorflow.keras.preprocessing import image\n",
        "from tensorflow.keras.preprocessing.image import ImageDataGenerator,load_img\n",
        "from tensorflow.keras.models import Sequential\n",
        "import numpy as np\n",
        "from glob import glob\n",
        "#import matplotlib.pyplot as plt"
      ],
      "execution_count": 2,
      "outputs": []
    },
    {
      "cell_type": "code",
      "metadata": {
        "colab": {
          "base_uri": "https://localhost:8080/"
        },
        "id": "vT8HzNfNQrFd",
        "outputId": "93a41271-55bb-4f24-ab32-186fde3f7457"
      },
      "source": [
        "from google.colab import drive\n",
        "drive.mount('/content/drive')"
      ],
      "execution_count": 3,
      "outputs": [
        {
          "output_type": "stream",
          "text": [
            "Mounted at /content/drive\n"
          ],
          "name": "stdout"
        }
      ]
    },
    {
      "cell_type": "code",
      "metadata": {
        "id": "GZnRSfYGQ-bc"
      },
      "source": [
        "# re-size all the images to this\n",
        "IMAGE_SIZE = [224, 224]\n",
        "\n",
        "train_path = '/content/drive/MyDrive/thesis dataset/test dataset/train'\n",
        "valid_path = '/content/drive/MyDrive/thesis dataset/test dataset/test'"
      ],
      "execution_count": 4,
      "outputs": []
    },
    {
      "cell_type": "code",
      "metadata": {
        "colab": {
          "base_uri": "https://localhost:8080/"
        },
        "id": "6f6Bs3P0RLFf",
        "outputId": "e2efba03-9eab-475f-ac55-2ce9aaf86696"
      },
      "source": [
        "# Import the VGG16 library as shown below and add preprocessing layer to the front of VGG\n",
        "# Here we will be using imagenet weights\n",
        "\n",
        "vgg16 = VGG16(input_shape=IMAGE_SIZE + [3], weights='imagenet', include_top=False)\n",
        "\n"
      ],
      "execution_count": 5,
      "outputs": [
        {
          "output_type": "stream",
          "text": [
            "Downloading data from https://storage.googleapis.com/tensorflow/keras-applications/vgg16/vgg16_weights_tf_dim_ordering_tf_kernels_notop.h5\n",
            "58892288/58889256 [==============================] - 1s 0us/step\n"
          ],
          "name": "stdout"
        }
      ]
    },
    {
      "cell_type": "code",
      "metadata": {
        "id": "tgj9QgSMRQNo"
      },
      "source": [
        "# don't train existing weights\n",
        "for layer in vgg16.layers:\n",
        "    layer.trainable = False"
      ],
      "execution_count": 6,
      "outputs": []
    },
    {
      "cell_type": "code",
      "metadata": {
        "id": "-1dJhChuRWH3"
      },
      "source": [
        "  # useful for getting number of output classes\n",
        "folders = glob('/content/drive/MyDrive/thesis dataset/test dataset/train/*')"
      ],
      "execution_count": 7,
      "outputs": []
    },
    {
      "cell_type": "code",
      "metadata": {
        "colab": {
          "base_uri": "https://localhost:8080/"
        },
        "id": "v46B5GybRcRm",
        "outputId": "7086a854-2791-47d8-f896-778b023572e5"
      },
      "source": [
        "folders"
      ],
      "execution_count": 8,
      "outputs": [
        {
          "output_type": "execute_result",
          "data": {
            "text/plain": [
              "['/content/drive/MyDrive/thesis dataset/test dataset/train/real',\n",
              " '/content/drive/MyDrive/thesis dataset/test dataset/train/fake']"
            ]
          },
          "metadata": {
            "tags": []
          },
          "execution_count": 8
        }
      ]
    },
    {
      "cell_type": "code",
      "metadata": {
        "id": "kG4GHiRGRfan"
      },
      "source": [
        "# our layers - you can add more if you want\n",
        "x = Flatten()(vgg16.output)"
      ],
      "execution_count": 9,
      "outputs": []
    },
    {
      "cell_type": "code",
      "metadata": {
        "colab": {
          "base_uri": "https://localhost:8080/"
        },
        "id": "k7Rb1C1XRkMW",
        "outputId": "071bb5be-bf5b-4c3b-f8cb-288bf061ea4f"
      },
      "source": [
        "len(folders)"
      ],
      "execution_count": 10,
      "outputs": [
        {
          "output_type": "execute_result",
          "data": {
            "text/plain": [
              "2"
            ]
          },
          "metadata": {
            "tags": []
          },
          "execution_count": 10
        }
      ]
    },
    {
      "cell_type": "code",
      "metadata": {
        "id": "nr_k3r3fRmsP"
      },
      "source": [
        "prediction = Dense(len(folders), activation='softmax')(x)\n",
        "\n",
        "# create a model object\n",
        "model = Model(inputs=vgg16.input, outputs=prediction)"
      ],
      "execution_count": 11,
      "outputs": []
    },
    {
      "cell_type": "code",
      "metadata": {
        "colab": {
          "base_uri": "https://localhost:8080/"
        },
        "id": "cGuH1ETNRpAR",
        "outputId": "d3fa563f-b60a-4240-f9b6-5206fa3c0fbe"
      },
      "source": [
        "# view the structure of the model\n",
        "model.summary()\n"
      ],
      "execution_count": 12,
      "outputs": [
        {
          "output_type": "stream",
          "text": [
            "Model: \"model\"\n",
            "_________________________________________________________________\n",
            "Layer (type)                 Output Shape              Param #   \n",
            "=================================================================\n",
            "input_1 (InputLayer)         [(None, 224, 224, 3)]     0         \n",
            "_________________________________________________________________\n",
            "block1_conv1 (Conv2D)        (None, 224, 224, 64)      1792      \n",
            "_________________________________________________________________\n",
            "block1_conv2 (Conv2D)        (None, 224, 224, 64)      36928     \n",
            "_________________________________________________________________\n",
            "block1_pool (MaxPooling2D)   (None, 112, 112, 64)      0         \n",
            "_________________________________________________________________\n",
            "block2_conv1 (Conv2D)        (None, 112, 112, 128)     73856     \n",
            "_________________________________________________________________\n",
            "block2_conv2 (Conv2D)        (None, 112, 112, 128)     147584    \n",
            "_________________________________________________________________\n",
            "block2_pool (MaxPooling2D)   (None, 56, 56, 128)       0         \n",
            "_________________________________________________________________\n",
            "block3_conv1 (Conv2D)        (None, 56, 56, 256)       295168    \n",
            "_________________________________________________________________\n",
            "block3_conv2 (Conv2D)        (None, 56, 56, 256)       590080    \n",
            "_________________________________________________________________\n",
            "block3_conv3 (Conv2D)        (None, 56, 56, 256)       590080    \n",
            "_________________________________________________________________\n",
            "block3_pool (MaxPooling2D)   (None, 28, 28, 256)       0         \n",
            "_________________________________________________________________\n",
            "block4_conv1 (Conv2D)        (None, 28, 28, 512)       1180160   \n",
            "_________________________________________________________________\n",
            "block4_conv2 (Conv2D)        (None, 28, 28, 512)       2359808   \n",
            "_________________________________________________________________\n",
            "block4_conv3 (Conv2D)        (None, 28, 28, 512)       2359808   \n",
            "_________________________________________________________________\n",
            "block4_pool (MaxPooling2D)   (None, 14, 14, 512)       0         \n",
            "_________________________________________________________________\n",
            "block5_conv1 (Conv2D)        (None, 14, 14, 512)       2359808   \n",
            "_________________________________________________________________\n",
            "block5_conv2 (Conv2D)        (None, 14, 14, 512)       2359808   \n",
            "_________________________________________________________________\n",
            "block5_conv3 (Conv2D)        (None, 14, 14, 512)       2359808   \n",
            "_________________________________________________________________\n",
            "block5_pool (MaxPooling2D)   (None, 7, 7, 512)         0         \n",
            "_________________________________________________________________\n",
            "flatten (Flatten)            (None, 25088)             0         \n",
            "_________________________________________________________________\n",
            "dense (Dense)                (None, 2)                 50178     \n",
            "=================================================================\n",
            "Total params: 14,764,866\n",
            "Trainable params: 50,178\n",
            "Non-trainable params: 14,714,688\n",
            "_________________________________________________________________\n"
          ],
          "name": "stdout"
        }
      ]
    },
    {
      "cell_type": "code",
      "metadata": {
        "id": "0UyQ4XRERqfn"
      },
      "source": [
        "# tell the model what cost and optimization method to use\n",
        "model.compile(\n",
        "  loss='categorical_crossentropy',\n",
        "  optimizer='adam',\n",
        "  metrics=['accuracy']\n",
        ")\n"
      ],
      "execution_count": 13,
      "outputs": []
    },
    {
      "cell_type": "code",
      "metadata": {
        "id": "9eLssWYkRv_w"
      },
      "source": [
        "# Use the Image Data Generator to import the images from the dataset\n",
        "from tensorflow.keras.preprocessing.image import ImageDataGenerator\n",
        "\n",
        "train_datagen = ImageDataGenerator(rescale = 1./255,\n",
        "                                   shear_range = 0.2,\n",
        "                                   zoom_range = 0.2,\n",
        "                                   horizontal_flip = True)\n",
        "\n",
        "test_datagen = ImageDataGenerator(rescale = 1./255)"
      ],
      "execution_count": 15,
      "outputs": []
    },
    {
      "cell_type": "code",
      "metadata": {
        "colab": {
          "base_uri": "https://localhost:8080/"
        },
        "id": "hlC4cp0TR0W6",
        "outputId": "2eb71a28-46f0-4570-dde0-b607c458689c"
      },
      "source": [
        "# Make sure you provide the same target size as initialied for the image size\n",
        "training_set = train_datagen.flow_from_directory('/content/drive/MyDrive/thesis dataset/test dataset/train',\n",
        "                                                 target_size = (224, 224),\n",
        "                                                 batch_size = 32,\n",
        "                                                 class_mode = 'categorical')"
      ],
      "execution_count": 17,
      "outputs": [
        {
          "output_type": "stream",
          "text": [
            "Found 40 images belonging to 2 classes.\n"
          ],
          "name": "stdout"
        }
      ]
    },
    {
      "cell_type": "code",
      "metadata": {
        "colab": {
          "base_uri": "https://localhost:8080/"
        },
        "id": "NkaMFc-dR9GG",
        "outputId": "8b596b3f-0c9c-4ed1-a64b-e07f9f50c226"
      },
      "source": [
        "test_set = test_datagen.flow_from_directory('/content/drive/MyDrive/thesis dataset/test dataset/test',\n",
        "                                            target_size = (224, 224),\n",
        "                                            batch_size = 32,\n",
        "                                            class_mode = 'categorical')"
      ],
      "execution_count": 18,
      "outputs": [
        {
          "output_type": "stream",
          "text": [
            "Found 40 images belonging to 2 classes.\n"
          ],
          "name": "stdout"
        }
      ]
    },
    {
      "cell_type": "code",
      "metadata": {
        "colab": {
          "base_uri": "https://localhost:8080/"
        },
        "id": "MWUXdlxVSBr3",
        "outputId": "ee4be9d1-0961-42d5-9ca0-40363f7e0f43"
      },
      "source": [
        "# fit the model\n",
        "# Run the cell. It will take some time to execute\n",
        "r = model.fit_generator(\n",
        "  training_set,\n",
        "  validation_data=test_set,\n",
        "  epochs=20,\n",
        "  steps_per_epoch=len(training_set),\n",
        "  validation_steps=len(test_set)\n",
        ")"
      ],
      "execution_count": 19,
      "outputs": [
        {
          "output_type": "stream",
          "text": [
            "/usr/local/lib/python3.7/dist-packages/tensorflow/python/keras/engine/training.py:1940: UserWarning: `Model.fit_generator` is deprecated and will be removed in a future version. Please use `Model.fit`, which supports generators.\n",
            "  warnings.warn('`Model.fit_generator` is deprecated and '\n"
          ],
          "name": "stderr"
        },
        {
          "output_type": "stream",
          "text": [
            "Epoch 1/20\n",
            "2/2 [==============================] - 49s 13s/step - loss: 1.4633 - accuracy: 0.4250 - val_loss: 1.2950 - val_accuracy: 0.5000\n",
            "Epoch 2/20\n",
            "2/2 [==============================] - 1s 351ms/step - loss: 1.4252 - accuracy: 0.4500 - val_loss: 1.9473 - val_accuracy: 0.5000\n",
            "Epoch 3/20\n",
            "2/2 [==============================] - 1s 719ms/step - loss: 1.0689 - accuracy: 0.5000 - val_loss: 0.6440 - val_accuracy: 0.7250\n",
            "Epoch 4/20\n",
            "2/2 [==============================] - 1s 347ms/step - loss: 0.3622 - accuracy: 0.8500 - val_loss: 1.4528 - val_accuracy: 0.5000\n",
            "Epoch 5/20\n",
            "2/2 [==============================] - 1s 715ms/step - loss: 0.9386 - accuracy: 0.5250 - val_loss: 0.8790 - val_accuracy: 0.6500\n",
            "Epoch 6/20\n",
            "2/2 [==============================] - 1s 726ms/step - loss: 0.3110 - accuracy: 0.8750 - val_loss: 0.9617 - val_accuracy: 0.5000\n",
            "Epoch 7/20\n",
            "2/2 [==============================] - 1s 729ms/step - loss: 0.3867 - accuracy: 0.8000 - val_loss: 1.2777 - val_accuracy: 0.5500\n",
            "Epoch 8/20\n",
            "2/2 [==============================] - 1s 751ms/step - loss: 0.2684 - accuracy: 0.8750 - val_loss: 0.9744 - val_accuracy: 0.6000\n",
            "Epoch 9/20\n",
            "2/2 [==============================] - 1s 746ms/step - loss: 0.2283 - accuracy: 0.9500 - val_loss: 0.7917 - val_accuracy: 0.6750\n",
            "Epoch 10/20\n",
            "2/2 [==============================] - 1s 345ms/step - loss: 0.2756 - accuracy: 0.9000 - val_loss: 0.9516 - val_accuracy: 0.7250\n",
            "Epoch 11/20\n",
            "2/2 [==============================] - 1s 736ms/step - loss: 0.3322 - accuracy: 0.8000 - val_loss: 0.8011 - val_accuracy: 0.6500\n",
            "Epoch 12/20\n",
            "2/2 [==============================] - 1s 357ms/step - loss: 0.1737 - accuracy: 0.9000 - val_loss: 0.9136 - val_accuracy: 0.6000\n",
            "Epoch 13/20\n",
            "2/2 [==============================] - 1s 747ms/step - loss: 0.2864 - accuracy: 0.8750 - val_loss: 1.1990 - val_accuracy: 0.6000\n",
            "Epoch 14/20\n",
            "2/2 [==============================] - 1s 728ms/step - loss: 0.1960 - accuracy: 0.9250 - val_loss: 0.9204 - val_accuracy: 0.6250\n",
            "Epoch 15/20\n",
            "2/2 [==============================] - 1s 736ms/step - loss: 0.0737 - accuracy: 0.9750 - val_loss: 0.8171 - val_accuracy: 0.6250\n",
            "Epoch 16/20\n",
            "2/2 [==============================] - 1s 736ms/step - loss: 0.0737 - accuracy: 1.0000 - val_loss: 0.8422 - val_accuracy: 0.6500\n",
            "Epoch 17/20\n",
            "2/2 [==============================] - 1s 347ms/step - loss: 0.0641 - accuracy: 1.0000 - val_loss: 0.8639 - val_accuracy: 0.6500\n",
            "Epoch 18/20\n",
            "2/2 [==============================] - 1s 733ms/step - loss: 0.0891 - accuracy: 1.0000 - val_loss: 0.8525 - val_accuracy: 0.6250\n",
            "Epoch 19/20\n",
            "2/2 [==============================] - 1s 728ms/step - loss: 0.0441 - accuracy: 1.0000 - val_loss: 0.8555 - val_accuracy: 0.6250\n",
            "Epoch 20/20\n",
            "2/2 [==============================] - 1s 343ms/step - loss: 0.0509 - accuracy: 0.9750 - val_loss: 0.8961 - val_accuracy: 0.6000\n"
          ],
          "name": "stdout"
        }
      ]
    },
    {
      "cell_type": "code",
      "metadata": {
        "id": "fdREvt2kSYcA"
      },
      "source": [
        "import matplotlib.pyplot as plt"
      ],
      "execution_count": 20,
      "outputs": []
    },
    {
      "cell_type": "code",
      "metadata": {
        "colab": {
          "base_uri": "https://localhost:8080/",
          "height": 530
        },
        "id": "h2jS5pWVScCn",
        "outputId": "df4314fd-521b-4767-cb61-bcff58ebc64d"
      },
      "source": [
        "# plot the loss\n",
        "plt.plot(r.history['loss'], label='train loss')\n",
        "plt.plot(r.history['val_loss'], label='val loss')\n",
        "plt.legend()\n",
        "plt.show()\n",
        "plt.savefig('LossVal_loss')\n",
        "\n",
        "# plot the accuracy\n",
        "plt.plot(r.history['accuracy'], label='train acc')\n",
        "plt.plot(r.history['val_accuracy'], label='val acc')\n",
        "plt.legend()\n",
        "plt.show()\n",
        "plt.savefig('AccVal_acc')"
      ],
      "execution_count": 21,
      "outputs": [
        {
          "output_type": "display_data",
          "data": {
            "image/png": "[encoded data removed]",
            "text/plain": [
              "<Figure size 432x288 with 1 Axes>"
            ]
          },
          "metadata": {
            "tags": [],
            "needs_background": "light"
          }
        },
        {
          "output_type": "display_data",
          "data": {
            "image/png": "[encoded data removed]",
            "text/plain": [
              "<Figure size 432x288 with 1 Axes>"
            ]
          },
          "metadata": {
            "tags": [],
            "needs_background": "light"
          }
        },
        {
          "output_type": "display_data",
          "data": {
            "text/plain": [
              "<Figure size 432x288 with 0 Axes>"
            ]
          },
          "metadata": {
            "tags": []
          }
        }
      ]
    },
    {
      "cell_type": "code",
      "metadata": {
        "id": "YGURZTVeSikm"
      },
      "source": [
        "# save it as a h5 file\n",
        "\n",
        "\n",
        "from tensorflow.keras.models import load_model\n",
        "\n",
        "model.save('model_vgg16.h5')"
      ],
      "execution_count": 22,
      "outputs": []
    },
    {
      "cell_type": "code",
      "metadata": {
        "id": "7Qe86ud_SnIf"
      },
      "source": [
        "y_pred = model.predict(test_set)"
      ],
      "execution_count": 23,
      "outputs": []
    },
    {
      "cell_type": "code",
      "metadata": {
        "colab": {
          "base_uri": "https://localhost:8080/"
        },
        "id": "8gYCqbsRSpbG",
        "outputId": "e878fef0-172c-4fa0-d005-c1c05e856282"
      },
      "source": [
        "y_pred"
      ],
      "execution_count": 24,
      "outputs": [
        {
          "output_type": "execute_result",
          "data": {
            "text/plain": [
              "array([[0.06006672, 0.93993324],\n",
              "       [0.00668006, 0.99332   ],\n",
              "       [0.6745232 , 0.32547686],\n",
              "       [0.51243544, 0.4875646 ],\n",
              "       [0.74922514, 0.2507749 ],\n",
              "       [0.7202733 , 0.27972668],\n",
              "       [0.841364  , 0.15863594],\n",
              "       [0.6000857 , 0.39991432],\n",
              "       [0.9685033 , 0.03149673],\n",
              "       [0.9792845 , 0.02071543],\n",
              "       [0.64058334, 0.3594166 ],\n",
              "       [0.99647033, 0.00352964],\n",
              "       [0.98413   , 0.01586999],\n",
              "       [0.09927505, 0.90072495],\n",
              "       [0.12616022, 0.8738398 ],\n",
              "       [0.9230947 , 0.07690535],\n",
              "       [0.5197218 , 0.48027816],\n",
              "       [0.95955664, 0.04044338],\n",
              "       [0.96729964, 0.03270033],\n",
              "       [0.12577862, 0.8742214 ],\n",
              "       [0.90802234, 0.09197769],\n",
              "       [0.5749391 , 0.4250609 ],\n",
              "       [0.00692053, 0.9930795 ],\n",
              "       [0.12246774, 0.87753224],\n",
              "       [0.06332951, 0.9366705 ],\n",
              "       [0.043082  , 0.95691794],\n",
              "       [0.76747227, 0.2325277 ],\n",
              "       [0.9018331 , 0.09816688],\n",
              "       [0.8971799 , 0.10282012],\n",
              "       [0.00459623, 0.99540377],\n",
              "       [0.9349841 , 0.06501587],\n",
              "       [0.9932001 , 0.00679986],\n",
              "       [0.9226987 , 0.07730126],\n",
              "       [0.9713226 , 0.02867747],\n",
              "       [0.9536393 , 0.04636072],\n",
              "       [0.00195812, 0.99804187],\n",
              "       [0.9863304 , 0.0136696 ],\n",
              "       [0.78578347, 0.2142165 ],\n",
              "       [0.6385195 , 0.36148044],\n",
              "       [0.2590583 , 0.7409417 ]], dtype=float32)"
            ]
          },
          "metadata": {
            "tags": []
          },
          "execution_count": 24
        }
      ]
    },
    {
      "cell_type": "code",
      "metadata": {
        "id": "LhtF3WtISpiK"
      },
      "source": [
        "import numpy as np\n",
        "y_pred = np.argmax(y_pred, axis=1)"
      ],
      "execution_count": 25,
      "outputs": []
    },
    {
      "cell_type": "code",
      "metadata": {
        "colab": {
          "base_uri": "https://localhost:8080/"
        },
        "id": "72Yp102dSvM3",
        "outputId": "3a590e0e-2c5b-4508-f3ad-2b2e72f10705"
      },
      "source": [
        "y_pred"
      ],
      "execution_count": 26,
      "outputs": [
        {
          "output_type": "execute_result",
          "data": {
            "text/plain": [
              "array([1, 1, 0, 0, 0, 0, 0, 0, 0, 0, 0, 0, 0, 1, 1, 0, 0, 0, 0, 1, 0, 0,\n",
              "       1, 1, 1, 1, 0, 0, 0, 1, 0, 0, 0, 0, 0, 1, 0, 0, 0, 1])"
            ]
          },
          "metadata": {
            "tags": []
          },
          "execution_count": 26
        }
      ]
    },
    {
      "cell_type": "code",
      "metadata": {
        "id": "fpHunBdoSyMn"
      },
      "source": [
        "from tensorflow.keras.models import load_model\n",
        "from tensorflow.keras.preprocessing import image"
      ],
      "execution_count": 29,
      "outputs": []
    }
  ]
}