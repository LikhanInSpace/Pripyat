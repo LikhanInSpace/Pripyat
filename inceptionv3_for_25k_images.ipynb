{
  "nbformat": 4,
  "nbformat_minor": 0,
  "metadata": {
    "accelerator": "GPU",
    "colab": {
      "name": "inceptionv3 for 25k images.ipynb",
      "provenance": [],
      "authorship_tag": "ABX9TyOH6ocGdXCzf+8jae0ZaREO",
      "include_colab_link": true
    },
    "kernelspec": {
      "display_name": "Python 3",
      "name": "python3"
    },
    "language_info": {
      "name": "python"
    }
  },
  "cells": [
    {
      "cell_type": "markdown",
      "metadata": {
        "id": "view-in-github",
        "colab_type": "text"
      },
      "source": [
        "<a href=\"https://colab.research.google.com/github/LikhanInSpace/bomFatabo/blob/main/inceptionv3_for_25k_images.ipynb\" target=\"_parent\"><img src=\"https://colab.research.google.com/assets/colab-badge.svg\" alt=\"Open In Colab\"/></a>"
      ]
    },
    {
      "cell_type": "code",
      "metadata": {
        "id": "-CwD7tbjXQwK"
      },
      "source": [
        "from tensorflow.keras.layers import Input, Lambda, Dense, Flatten\n",
        "from tensorflow.keras.models import Model\n",
        "from tensorflow.keras.applications.inception_v3 import InceptionV3\n",
        "from tensorflow.keras.applications.inception_v3 import InceptionV3\n",
        "from tensorflow.keras.preprocessing import image\n",
        "from tensorflow.keras.preprocessing.image import ImageDataGenerator,load_img\n",
        "from tensorflow.keras.models import Sequential\n",
        "import numpy as np\n",
        "from glob import glob"
      ],
      "execution_count": 4,
      "outputs": []
    },
    {
      "cell_type": "code",
      "metadata": {
        "colab": {
          "base_uri": "https://localhost:8080/"
        },
        "id": "CqONmyk2XiRS",
        "outputId": "185fe460-9ad0-40ca-be54-f419d29beb4a"
      },
      "source": [
        "from google.colab import drive\n",
        "drive.mount('/content/drive')"
      ],
      "execution_count": 1,
      "outputs": [
        {
          "output_type": "stream",
          "text": [
            "Mounted at /content/drive\n"
          ],
          "name": "stdout"
        }
      ]
    },
    {
      "cell_type": "code",
      "metadata": {
        "id": "lhSh_DoFXoyx"
      },
      "source": [
        "IMAGE_SIZE = [224, 224]\n",
        "train_path = '/content/drive/MyDrive/real vs fake/train'\n",
        "valid_path = '/content/drive/MyDrive/real vs fake/test'"
      ],
      "execution_count": 2,
      "outputs": []
    },
    {
      "cell_type": "code",
      "metadata": {
        "colab": {
          "base_uri": "https://localhost:8080/"
        },
        "id": "utX2Mm6uYJ4M",
        "outputId": "6226d3c9-1d97-4949-e1a0-bb6e2d7a1ec2"
      },
      "source": [
        "inceptionv3 = InceptionV3(input_shape=IMAGE_SIZE + [3], weights='imagenet', include_top=False)"
      ],
      "execution_count": 5,
      "outputs": [
        {
          "output_type": "stream",
          "text": [
            "Downloading data from https://storage.googleapis.com/tensorflow/keras-applications/inception_v3/inception_v3_weights_tf_dim_ordering_tf_kernels_notop.h5\n",
            "87916544/87910968 [==============================] - 0s 0us/step\n"
          ],
          "name": "stdout"
        }
      ]
    },
    {
      "cell_type": "code",
      "metadata": {
        "id": "VM3iZo9hYTcS"
      },
      "source": [
        "for layer in inceptionv3.layers:\n",
        "    layer.trainable = False"
      ],
      "execution_count": 6,
      "outputs": []
    },
    {
      "cell_type": "code",
      "metadata": {
        "id": "q6l1YrGXYVy8"
      },
      "source": [
        "folders = glob('/content/drive/MyDrive/real vs fake/train/*')"
      ],
      "execution_count": 7,
      "outputs": []
    },
    {
      "cell_type": "code",
      "metadata": {
        "colab": {
          "base_uri": "https://localhost:8080/"
        },
        "id": "UpgEwyTqYbIx",
        "outputId": "e5050076-1bb4-459a-9947-019c792992fc"
      },
      "source": [
        "folders"
      ],
      "execution_count": null,
      "outputs": [
        {
          "output_type": "execute_result",
          "data": {
            "text/plain": [
              "['/content/drive/MyDrive/real vs fake/train/real',\n",
              " '/content/drive/MyDrive/real vs fake/train/fake']"
            ]
          },
          "metadata": {
            "tags": []
          },
          "execution_count": 8
        }
      ]
    },
    {
      "cell_type": "code",
      "metadata": {
        "id": "2LLtbQceYdzq"
      },
      "source": [
        "x = Flatten()(inceptionv3.output)"
      ],
      "execution_count": 8,
      "outputs": []
    },
    {
      "cell_type": "code",
      "metadata": {
        "colab": {
          "base_uri": "https://localhost:8080/"
        },
        "id": "T46z2TSAYhvy",
        "outputId": "e36529fe-e220-4274-8c79-13e028a2c2a8"
      },
      "source": [
        "len(folders)"
      ],
      "execution_count": null,
      "outputs": [
        {
          "output_type": "execute_result",
          "data": {
            "text/plain": [
              "2"
            ]
          },
          "metadata": {
            "tags": []
          },
          "execution_count": 9
        }
      ]
    },
    {
      "cell_type": "code",
      "metadata": {
        "id": "0DfUBlQdYheJ"
      },
      "source": [
        "prediction = Dense(len(folders), activation='softmax')(x)\n",
        "\n",
        "# create a model object\n",
        "model = Model(inputs=inceptionv3.input, outputs=prediction)"
      ],
      "execution_count": 9,
      "outputs": []
    },
    {
      "cell_type": "code",
      "metadata": {
        "id": "fu0PhuxyYoG6"
      },
      "source": [
        "model.compile(\n",
        "  loss='categorical_crossentropy',\n",
        "  optimizer='rmsprop',\n",
        "  metrics=['accuracy']\n",
        ")"
      ],
      "execution_count": 10,
      "outputs": []
    },
    {
      "cell_type": "code",
      "metadata": {
        "id": "Qi0OChgjYq4Z"
      },
      "source": [
        "from tensorflow.keras.preprocessing.image import ImageDataGenerator\n",
        "\n",
        "train_datagen = ImageDataGenerator(rescale = 1./255,\n",
        "                                   shear_range = 0.2,\n",
        "                                   zoom_range = 0.2,\n",
        "                                   horizontal_flip = True)\n",
        "\n",
        "test_datagen = ImageDataGenerator(rescale = 1./255)"
      ],
      "execution_count": 11,
      "outputs": []
    },
    {
      "cell_type": "code",
      "metadata": {
        "colab": {
          "base_uri": "https://localhost:8080/"
        },
        "id": "9X6v_K-yYuW6",
        "outputId": "91b88f05-834b-48c1-cd46-211a5dcd00f8"
      },
      "source": [
        "training_set = train_datagen.flow_from_directory('/content/drive/MyDrive/real vs fake/train',\n",
        "                                                 target_size = (224, 224),\n",
        "                                                 batch_size = 100,\n",
        "                                                 class_mode = 'categorical')"
      ],
      "execution_count": 15,
      "outputs": [
        {
          "output_type": "stream",
          "text": [
            "Found 15024 images belonging to 2 classes.\n"
          ],
          "name": "stdout"
        }
      ]
    },
    {
      "cell_type": "code",
      "metadata": {
        "colab": {
          "base_uri": "https://localhost:8080/"
        },
        "id": "usaqcbg-ZDKJ",
        "outputId": "83f8891a-b5a3-4661-9511-24a600ade78a"
      },
      "source": [
        "test_set = test_datagen.flow_from_directory('/content/drive/MyDrive/real vs fake/test',\n",
        "                                            target_size = (224, 224),\n",
        "                                            batch_size = 100,\n",
        "                                            class_mode = 'categorical')"
      ],
      "execution_count": 16,
      "outputs": [
        {
          "output_type": "stream",
          "text": [
            "Found 10000 images belonging to 2 classes.\n"
          ],
          "name": "stdout"
        }
      ]
    },
    {
      "cell_type": "code",
      "metadata": {
        "colab": {
          "base_uri": "https://localhost:8080/"
        },
        "id": "Iggs0MgeZTba",
        "outputId": "5286763b-82e9-46cc-aec1-28f93d9c2b4c"
      },
      "source": [
        "r = model.fit(\n",
        "  training_set,\n",
        "  validation_data=test_set,\n",
        "  epochs=15,\n",
        "  steps_per_epoch=len(training_set),\n",
        "  validation_steps=len(test_set)\n",
        ")"
      ],
      "execution_count": 17,
      "outputs": [
        {
          "output_type": "stream",
          "text": [
            "Epoch 1/15\n",
            "151/151 [==============================] - 6472s 43s/step - loss: 0.2553 - accuracy: 0.9838 - val_loss: 0.0105 - val_accuracy: 0.9977\n",
            "Epoch 2/15\n",
            "151/151 [==============================] - 196s 1s/step - loss: 0.2733 - accuracy: 0.9856 - val_loss: 0.0047 - val_accuracy: 0.9993\n",
            "Epoch 3/15\n",
            "151/151 [==============================] - 195s 1s/step - loss: 0.1042 - accuracy: 0.9919 - val_loss: 0.0081 - val_accuracy: 0.9989\n",
            "Epoch 4/15\n",
            "151/151 [==============================] - 196s 1s/step - loss: 0.0476 - accuracy: 0.9954 - val_loss: 0.0274 - val_accuracy: 0.9969\n",
            "Epoch 5/15\n",
            "151/151 [==============================] - 194s 1s/step - loss: 0.0203 - accuracy: 0.9981 - val_loss: 0.0059 - val_accuracy: 0.9992\n",
            "Epoch 6/15\n",
            "151/151 [==============================] - 195s 1s/step - loss: 0.0258 - accuracy: 0.9973 - val_loss: 0.0403 - val_accuracy: 0.9960\n",
            "Epoch 7/15\n",
            "151/151 [==============================] - 194s 1s/step - loss: 0.0231 - accuracy: 0.9983 - val_loss: 0.0269 - val_accuracy: 0.9972\n",
            "Epoch 8/15\n",
            "151/151 [==============================] - 195s 1s/step - loss: 0.0178 - accuracy: 0.9989 - val_loss: 0.0047 - val_accuracy: 0.9992\n",
            "Epoch 9/15\n",
            "151/151 [==============================] - 194s 1s/step - loss: 0.0210 - accuracy: 0.9983 - val_loss: 0.4689 - val_accuracy: 0.9692\n",
            "Epoch 10/15\n",
            "151/151 [==============================] - 194s 1s/step - loss: 0.0117 - accuracy: 0.9985 - val_loss: 0.0112 - val_accuracy: 0.9991\n",
            "Epoch 11/15\n",
            "151/151 [==============================] - 193s 1s/step - loss: 4.2204e-04 - accuracy: 0.9999 - val_loss: 0.0084 - val_accuracy: 0.9991\n",
            "Epoch 12/15\n",
            "151/151 [==============================] - 193s 1s/step - loss: 0.0044 - accuracy: 0.9994 - val_loss: 0.2885 - val_accuracy: 0.9818\n",
            "Epoch 13/15\n",
            "151/151 [==============================] - 195s 1s/step - loss: 0.0086 - accuracy: 0.9992 - val_loss: 0.0209 - val_accuracy: 0.9990\n",
            "Epoch 14/15\n",
            "151/151 [==============================] - 194s 1s/step - loss: 3.0979e-04 - accuracy: 0.9999 - val_loss: 0.0297 - val_accuracy: 0.9977\n",
            "Epoch 15/15\n",
            "151/151 [==============================] - 194s 1s/step - loss: 0.0034 - accuracy: 0.9996 - val_loss: 0.0264 - val_accuracy: 0.9982\n"
          ],
          "name": "stdout"
        }
      ]
    }
  ]
}