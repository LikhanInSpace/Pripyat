{
  "nbformat": 4,
  "nbformat_minor": 0,
  "metadata": {
    "colab": {
      "name": "vgg16_mod_version_2.ipynb",
      "provenance": [],
      "include_colab_link": true
    },
    "kernelspec": {
      "name": "python3",
      "display_name": "Python 3"
    },
    "language_info": {
      "name": "python"
    },
    "accelerator": "GPU"
  },
  "cells": [
    {
      "cell_type": "markdown",
      "metadata": {
        "id": "view-in-github",
        "colab_type": "text"
      },
      "source": [
        "<a href=\"https://colab.research.google.com/github/LikhanInSpace/Pripyat/blob/main/vgg16_mod_version_2.ipynb\" target=\"_parent\"><img src=\"https://colab.research.google.com/assets/colab-badge.svg\" alt=\"Open In Colab\"/></a>"
      ]
    },
    {
      "cell_type": "code",
      "metadata": {
        "id": "m6E5dgn6mIC2"
      },
      "source": [
        "from tensorflow.compat.v1 import ConfigProto\n",
        "from tensorflow.compat.v1 import InteractiveSession\n",
        "\n",
        "config = ConfigProto()\n",
        "config.gpu_options.per_process_gpu_memory_fraction = 0.5\n",
        "config.gpu_options.allow_growth = True\n",
        "session = InteractiveSession(config=config)"
      ],
      "execution_count": 3,
      "outputs": []
    },
    {
      "cell_type": "code",
      "metadata": {
        "colab": {
          "base_uri": "https://localhost:8080/"
        },
        "id": "MNPVF4KFmjZi",
        "outputId": "4dbd6c00-a856-42c7-a171-b0be58e0d647"
      },
      "source": [
        "import tensorflow as tf\n",
        "print(tf.__version__)"
      ],
      "execution_count": 4,
      "outputs": [
        {
          "output_type": "stream",
          "text": [
            "2.5.0\n"
          ],
          "name": "stdout"
        }
      ]
    },
    {
      "cell_type": "code",
      "metadata": {
        "id": "5Q703O6pmvpx"
      },
      "source": [
        "from tensorflow.keras.layers import Input, Lambda, Dense, Flatten\n",
        "from tensorflow.keras.models import Model\n",
        "from tensorflow.keras.applications.vgg16 import VGG16\n",
        "from tensorflow.keras.applications.vgg19 import VGG19\n",
        "from tensorflow.keras.preprocessing import image\n",
        "from tensorflow.keras.preprocessing.image import ImageDataGenerator,load_img\n",
        "from tensorflow.keras.models import Sequential\n",
        "from tensorflow.keras.preprocessing.image import ImageDataGenerator\n",
        "from tensorflow.keras.callbacks import ReduceLROnPlateau\n",
        "import numpy as np\n",
        "import keras\n",
        "from keras import regularizers\n",
        "from glob import glob\n",
        "from tensorflow.python.keras.layers import Input, Dense"
      ],
      "execution_count": 1,
      "outputs": []
    },
    {
      "cell_type": "code",
      "metadata": {
        "colab": {
          "base_uri": "https://localhost:8080/"
        },
        "id": "tyNh2AkqmzFC",
        "outputId": "83611eac-8fdf-4026-87ba-48c02f736f84"
      },
      "source": [
        "from google.colab import drive\n",
        "drive.mount('/content/drive')"
      ],
      "execution_count": 2,
      "outputs": [
        {
          "output_type": "stream",
          "text": [
            "Mounted at /content/drive\n"
          ],
          "name": "stdout"
        }
      ]
    },
    {
      "cell_type": "code",
      "metadata": {
        "id": "Vy-1fsEinGw6"
      },
      "source": [
        "IMAGE_SIZE = [224, 224]"
      ],
      "execution_count": 3,
      "outputs": []
    },
    {
      "cell_type": "code",
      "metadata": {
        "id": "V04_P80PnK1J",
        "colab": {
          "base_uri": "https://localhost:8080/"
        },
        "outputId": "f7ab7e32-ebc3-4ad0-b96b-a249355b61dd"
      },
      "source": [
        "vgg16 = VGG16(input_shape=IMAGE_SIZE + [3], weights='imagenet', include_top=False)\n",
        "#vgg.summary()"
      ],
      "execution_count": 4,
      "outputs": [
        {
          "output_type": "stream",
          "text": [
            "Downloading data from https://storage.googleapis.com/tensorflow/keras-applications/vgg16/vgg16_weights_tf_dim_ordering_tf_kernels_notop.h5\n",
            "58892288/58889256 [==============================] - 0s 0us/step\n"
          ],
          "name": "stdout"
        }
      ]
    },
    {
      "cell_type": "code",
      "metadata": {
        "id": "db7a1D-jnjNq"
      },
      "source": [
        "for layer in vgg16.layers:\n",
        "  layer.trainable = False"
      ],
      "execution_count": 5,
      "outputs": []
    },
    {
      "cell_type": "code",
      "metadata": {
        "id": "O8tlo2FQpSzT"
      },
      "source": [
        "x = Flatten()(vgg16.output)\n",
        "prediction = Dense(1, activation='sigmoid')(x)\n",
        "model = Model(inputs=vgg16.input, outputs=prediction)"
      ],
      "execution_count": 6,
      "outputs": []
    },
    {
      "cell_type": "code",
      "metadata": {
        "id": "toskN2VMr5_K"
      },
      "source": [
        "#model.summary()"
      ],
      "execution_count": null,
      "outputs": []
    },
    {
      "cell_type": "code",
      "metadata": {
        "id": "cljJ-JbfsGs6"
      },
      "source": [
        "for layer in model.layers:\n",
        "    layer.kernel_regularizer = keras.regularizers.l1_l2(0.001)"
      ],
      "execution_count": 7,
      "outputs": []
    },
    {
      "cell_type": "code",
      "metadata": {
        "id": "5AyIQvL1sPx6"
      },
      "source": [
        "model.compile(\n",
        "  loss='binary_crossentropy',\n",
        "  optimizer='adam',\n",
        "  metrics=['accuracy']\n",
        ")"
      ],
      "execution_count": 8,
      "outputs": []
    },
    {
      "cell_type": "code",
      "metadata": {
        "id": "6V5gH8essZB6"
      },
      "source": [
        "train_path = '/content/drive/MyDrive/real vs fake/NEW_TRAIN_10K'\n",
        "valid_path = '/content/drive/MyDrive/real vs fake/test'"
      ],
      "execution_count": 9,
      "outputs": []
    },
    {
      "cell_type": "code",
      "metadata": {
        "id": "Pe_8KMGBsxaS"
      },
      "source": [
        "train_datagen = ImageDataGenerator(rescale = 1./255,\n",
        "                                   shear_range = 0.3,\n",
        "                                   zoom_range=0.3,\n",
        "                                   rotation_range=90,\n",
        "                                   width_shift_range=0.3,\n",
        "                                   #fill_mode='wrap',\n",
        "                                   height_shift_range=0.3,\n",
        "                                   #channel_shift_range=150.0,\n",
        "                                   brightness_range=(0.1, 0.5),\n",
        "                                   vertical_flip=True,\n",
        "                                   horizontal_flip = True)\n",
        "\n",
        "test_datagen = ImageDataGenerator(rescale = 1./255)"
      ],
      "execution_count": 10,
      "outputs": []
    },
    {
      "cell_type": "code",
      "metadata": {
        "colab": {
          "base_uri": "https://localhost:8080/"
        },
        "id": "SnWkF7R4tUPT",
        "outputId": "68e5b277-4237-4adf-e854-b2bc6fe94d23"
      },
      "source": [
        "training_set = train_datagen.flow_from_directory('/content/drive/MyDrive/real vs fake/NEW_TRAIN_10K',\n",
        "                                                 target_size = (224, 224),\n",
        "                                                 batch_size = 32,\n",
        "                                                 color_mode='rgb',\n",
        "                                                 class_mode = 'binary')"
      ],
      "execution_count": 11,
      "outputs": [
        {
          "output_type": "stream",
          "text": [
            "Found 10000 images belonging to 2 classes.\n"
          ],
          "name": "stdout"
        }
      ]
    },
    {
      "cell_type": "code",
      "metadata": {
        "colab": {
          "base_uri": "https://localhost:8080/"
        },
        "id": "RWgytPC4tqVj",
        "outputId": "d79e9001-10ca-49a3-973b-d12c024017aa"
      },
      "source": [
        "test_set = test_datagen.flow_from_directory('/content/drive/MyDrive/real vs fake/test',\n",
        "                                            target_size = (224, 224),\n",
        "                                            batch_size = 32,\n",
        "                                            color_mode='rgb',\n",
        "                                            class_mode = 'binary')"
      ],
      "execution_count": 12,
      "outputs": [
        {
          "output_type": "stream",
          "text": [
            "Found 3000 images belonging to 2 classes.\n"
          ],
          "name": "stdout"
        }
      ]
    },
    {
      "cell_type": "code",
      "metadata": {
        "id": "zmvFU-LfybbU"
      },
      "source": [
        "reduce_lr = ReduceLROnPlateau(\n",
        "    monitor='val_loss', \n",
        "    factor=0.2,   \n",
        "    patience=2, \n",
        "    min_lr=0.001,\n",
        "    verbose=2\n",
        ")"
      ],
      "execution_count": 13,
      "outputs": []
    },
    {
      "cell_type": "code",
      "metadata": {
        "colab": {
          "base_uri": "https://localhost:8080/"
        },
        "id": "0iNQ5Ih_t3iM",
        "outputId": "f5b39cd2-7cc6-4a60-efd2-591234459909"
      },
      "source": [
        "r = model.fit(\n",
        "  training_set,\n",
        "  validation_data=test_set,\n",
        "  epochs=20,\n",
        "  steps_per_epoch=len(training_set),\n",
        "  validation_steps=len(test_set),\n",
        "  callbacks=[reduce_lr]\n",
        ")"
      ],
      "execution_count": 14,
      "outputs": [
        {
          "output_type": "stream",
          "text": [
            "Epoch 1/20\n",
            "313/313 [==============================] - 4277s 14s/step - loss: 0.3575 - accuracy: 0.8385 - val_loss: 0.7079 - val_accuracy: 0.7603\n",
            "Epoch 2/20\n",
            "313/313 [==============================] - 163s 521ms/step - loss: 0.2432 - accuracy: 0.8993 - val_loss: 0.4783 - val_accuracy: 0.8260\n",
            "Epoch 3/20\n",
            "313/313 [==============================] - 162s 517ms/step - loss: 0.2054 - accuracy: 0.9191 - val_loss: 0.6333 - val_accuracy: 0.8233\n",
            "Epoch 4/20\n",
            "313/313 [==============================] - 161s 515ms/step - loss: 0.1846 - accuracy: 0.9263 - val_loss: 0.6221 - val_accuracy: 0.8027\n",
            "Epoch 5/20\n",
            "313/313 [==============================] - 164s 524ms/step - loss: 0.1763 - accuracy: 0.9298 - val_loss: 0.3195 - val_accuracy: 0.8987\n",
            "Epoch 6/20\n",
            "313/313 [==============================] - 167s 532ms/step - loss: 0.1800 - accuracy: 0.9256 - val_loss: 0.2030 - val_accuracy: 0.9387\n",
            "Epoch 7/20\n",
            "313/313 [==============================] - 165s 526ms/step - loss: 0.1585 - accuracy: 0.9370 - val_loss: 0.3068 - val_accuracy: 0.9220\n",
            "Epoch 8/20\n",
            "313/313 [==============================] - 165s 526ms/step - loss: 0.1643 - accuracy: 0.9323 - val_loss: 0.3025 - val_accuracy: 0.9173\n",
            "Epoch 9/20\n",
            "313/313 [==============================] - 166s 529ms/step - loss: 0.1501 - accuracy: 0.9412 - val_loss: 0.2854 - val_accuracy: 0.9180\n",
            "Epoch 10/20\n",
            "313/313 [==============================] - 165s 528ms/step - loss: 0.1463 - accuracy: 0.9409 - val_loss: 0.6796 - val_accuracy: 0.8473\n",
            "Epoch 11/20\n",
            "313/313 [==============================] - 167s 533ms/step - loss: 0.1433 - accuracy: 0.9453 - val_loss: 0.3620 - val_accuracy: 0.9077\n",
            "Epoch 12/20\n",
            "313/313 [==============================] - 167s 532ms/step - loss: 0.1355 - accuracy: 0.9445 - val_loss: 0.2701 - val_accuracy: 0.9283\n",
            "Epoch 13/20\n",
            "313/313 [==============================] - 166s 530ms/step - loss: 0.1406 - accuracy: 0.9450 - val_loss: 0.6591 - val_accuracy: 0.8570\n",
            "Epoch 14/20\n",
            "313/313 [==============================] - 167s 532ms/step - loss: 0.1279 - accuracy: 0.9487 - val_loss: 0.4778 - val_accuracy: 0.8870\n",
            "Epoch 15/20\n",
            "313/313 [==============================] - 165s 528ms/step - loss: 0.1277 - accuracy: 0.9520 - val_loss: 0.2947 - val_accuracy: 0.9323\n",
            "Epoch 16/20\n",
            "313/313 [==============================] - 164s 523ms/step - loss: 0.1284 - accuracy: 0.9484 - val_loss: 0.3562 - val_accuracy: 0.9150\n",
            "Epoch 17/20\n",
            "313/313 [==============================] - 163s 521ms/step - loss: 0.1216 - accuracy: 0.9526 - val_loss: 0.5314 - val_accuracy: 0.8893\n",
            "Epoch 18/20\n",
            "313/313 [==============================] - 164s 524ms/step - loss: 0.1241 - accuracy: 0.9494 - val_loss: 0.4220 - val_accuracy: 0.9083\n",
            "Epoch 19/20\n",
            "313/313 [==============================] - 163s 519ms/step - loss: 0.1242 - accuracy: 0.9518 - val_loss: 0.6120 - val_accuracy: 0.8703\n",
            "Epoch 20/20\n",
            "313/313 [==============================] - 164s 522ms/step - loss: 0.1218 - accuracy: 0.9509 - val_loss: 0.5830 - val_accuracy: 0.8807\n"
          ],
          "name": "stdout"
        }
      ]
    },
    {
      "cell_type": "code",
      "metadata": {
        "id": "wpNQYQG1vhfD"
      },
      "source": [
        "import matplotlib.pyplot as plt"
      ],
      "execution_count": 15,
      "outputs": []
    },
    {
      "cell_type": "code",
      "metadata": {
        "colab": {
          "base_uri": "https://localhost:8080/",
          "height": 530
        },
        "id": "pRJIevc2vmJ0",
        "outputId": "29d33188-7105-4901-ba0f-7e7b8fea66ca"
      },
      "source": [
        "# plot the loss\n",
        "plt.plot(r.history['loss'], label='train loss')\n",
        "plt.plot(r.history['val_loss'], label='val loss')\n",
        "plt.legend()\n",
        "plt.show()\n",
        "plt.savefig('LossVal_loss')\n",
        "\n",
        "# plot the accuracy\n",
        "plt.plot(r.history['accuracy'], label='train acc')\n",
        "plt.plot(r.history['val_accuracy'], label='val acc')\n",
        "plt.legend()\n",
        "plt.show()\n",
        "plt.savefig('AccVal_acc')"
      ],
      "execution_count": 16,
      "outputs": [
        {
          "output_type": "display_data",
          "data": {
            "image/png": "[encoded data removed]",
            "text/plain": [
              "<Figure size 432x288 with 1 Axes>"
            ]
          },
          "metadata": {
            "tags": [],
            "needs_background": "light"
          }
        },
        {
          "output_type": "display_data",
          "data": {
            "image/png": "[encoded data removed]",
            "text/plain": [
              "<Figure size 432x288 with 1 Axes>"
            ]
          },
          "metadata": {
            "tags": [],
            "needs_background": "light"
          }
        },
        {
          "output_type": "display_data",
          "data": {
            "text/plain": [
              "<Figure size 432x288 with 0 Axes>"
            ]
          },
          "metadata": {
            "tags": []
          }
        }
      ]
    }
  ]
}